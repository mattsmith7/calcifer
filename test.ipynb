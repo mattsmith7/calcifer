{
 "cells": [
  {
   "cell_type": "code",
   "execution_count": 8,
   "metadata": {},
   "outputs": [],
   "source": [
    "from langchain_community.llms import Ollama\n",
    "llm = Ollama(model=\"llama2:7b\")"
   ]
  },
  {
   "cell_type": "code",
   "execution_count": 9,
   "metadata": {},
   "outputs": [
    {
     "data": {
      "text/plain": [
       "'\\nLangsmith is a tool that can be used for generating test cases, particularly for functional programming languages. Here are some ways in which Langsmith can help with testing:\\n\\n1. Automated Testing: Langsmith can be used to generate automated tests for functional programming languages, which can save time and effort compared to writing manual tests.\\n2. Code Coverage Analysis: Langsmith can analyze the generated test cases to calculate code coverage, which helps developers identify areas of the code that need more testing.\\n3. Test Case Generation: Langsmith can generate test cases based on the syntax and semantics of a functional programming language, which can help ensure that all possible combinations of input values are tested.\\n4. Test Data Generation: Langsmith can also be used to generate test data, such as input values or edge cases, that can be used to test the functionality of a program.\\n5. Code Review: Langsmith can be used to review and analyze code, identifying potential issues and bugs before they become problems in the production environment.\\n6. Test Case Optimization: Langsmith can optimize test cases by selecting the most effective tests based on factors such as code coverage, execution time, and test case complexity.\\n7. Integration Testing: Langsmith can be used to integrate different testing tools and frameworks, making it easier to test functional programming languages in a multi-tool environment.\\n8. Regression Testing: Langsmith can be used for regression testing by generating test cases that cover the same functionality as previous tests, but with new inputs or conditions.\\n9. Test Automation Frameworks: Langsmith can be integrated into test automation frameworks, making it easier to automate testing processes and improve testing efficiency.\\n10. Code Refactoring: Langsmith can be used to refactor code, identifying areas that are difficult to test and suggesting improvements to make the code more testable.\\n\\nOverall, Langsmith can help developers write better tests, reduce testing time and effort, and improve the overall quality of their functional programming languages.'"
      ]
     },
     "execution_count": 9,
     "metadata": {},
     "output_type": "execute_result"
    }
   ],
   "source": [
    "llm.invoke(\"how can langsmith help with testing?\")"
   ]
  },
  {
   "cell_type": "code",
   "execution_count": 10,
   "metadata": {},
   "outputs": [],
   "source": [
    "from langchain_core.prompts import ChatPromptTemplate\n",
    "prompt = ChatPromptTemplate.from_messages([\n",
    "    (\"system\", \"You are world class technical documentation writer.\"),\n",
    "    (\"user\", \"{input}\")\n",
    "])"
   ]
  },
  {
   "cell_type": "code",
   "execution_count": 13,
   "metadata": {},
   "outputs": [],
   "source": [
    "from langchain_core.output_parsers import StrOutputParser\n",
    "\n",
    "output_parser = StrOutputParser()"
   ]
  },
  {
   "cell_type": "code",
   "execution_count": 15,
   "metadata": {},
   "outputs": [],
   "source": [
    "from langchain_community.document_loaders import WebBaseLoader\n",
    "loader = WebBaseLoader(\"https://docs.smith.langchain.com\")\n",
    "\n",
    "docs = loader.load()"
   ]
  },
  {
   "cell_type": "code",
   "execution_count": 16,
   "metadata": {},
   "outputs": [],
   "source": [
    "from langchain_community.embeddings import OllamaEmbeddings\n",
    "\n",
    "embeddings = OllamaEmbeddings()"
   ]
  },
  {
   "cell_type": "code",
   "execution_count": 20,
   "metadata": {},
   "outputs": [],
   "source": [
    "import chromadb\n",
    "\n",
    "client = chromadb.Client()"
   ]
  },
  {
   "cell_type": "code",
   "execution_count": null,
   "metadata": {},
   "outputs": [],
   "source": [
    "collection = client.create_collection(\"calcifer-test\")"
   ]
  },
  {
   "cell_type": "code",
   "execution_count": 25,
   "metadata": {},
   "outputs": [
    {
     "name": "stdout",
     "output_type": "stream",
     "text": [
      "name='calcifer-test' id=UUID('acd1e328-0c83-4ded-bb98-af67fa42dd65') metadata=None tenant='default_tenant' database='default_database'\n"
     ]
    }
   ],
   "source": [
    "collection.add(\n",
    "    documents=[\"This is document1\", \"This is document2\"], # we handle tokenization, embedding, and indexing automatically. You can skip that and add your own embeddings as well\n",
    "    metadatas=[{\"source\": \"notion\"}, {\"source\": \"google-docs\"}], # filter on these!\n",
    "    ids=[\"doc1\", \"doc2\"], # unique for each doc\n",
    ")"
   ]
  },
  {
   "cell_type": "code",
   "execution_count": 14,
   "metadata": {},
   "outputs": [],
   "source": [
    "chain = prompt | llm | output_parser"
   ]
  },
  {
   "cell_type": "code",
   "execution_count": null,
   "metadata": {},
   "outputs": [],
   "source": [
    "chain.invoke({\"input\": \"how can langsmith help with testing?\"})"
   ]
  }
 ],
 "metadata": {
  "kernelspec": {
   "display_name": "Python 3",
   "language": "python",
   "name": "python3"
  },
  "language_info": {
   "codemirror_mode": {
    "name": "ipython",
    "version": 3
   },
   "file_extension": ".py",
   "mimetype": "text/x-python",
   "name": "python",
   "nbconvert_exporter": "python",
   "pygments_lexer": "ipython3",
   "version": "3.12.2"
  }
 },
 "nbformat": 4,
 "nbformat_minor": 2
}
